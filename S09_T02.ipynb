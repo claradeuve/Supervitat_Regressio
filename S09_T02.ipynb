{
 "cells": [
  {
   "cell_type": "markdown",
   "id": "b26343a8",
   "metadata": {},
   "source": [
    "## Exercici 1\n",
    "Crea almenys tres models de regressió diferents per intentar predir el millor possible l’endarreriment dels vols (ArrDelay) de DelayedFlights.csv"
   ]
  },
  {
   "cell_type": "code",
   "execution_count": 281,
   "id": "d67bdc2e",
   "metadata": {},
   "outputs": [
    {
     "name": "stdout",
     "output_type": "stream",
     "text": [
      "Unnamed: 0             0\n",
      "Year                   0\n",
      "Month                  0\n",
      "DayofMonth             0\n",
      "DayOfWeek              0\n",
      "CRSDepTime             0\n",
      "CRSArrTime             0\n",
      "FlightNum              0\n",
      "Distance               0\n",
      "Cancelled              0\n",
      "Diverted               0\n",
      "DepTime                0\n",
      "ArrTime                2\n",
      "ActualElapsedTime      2\n",
      "CRSElapsedTime         0\n",
      "AirTime                2\n",
      "ArrDelay               2\n",
      "DepDelay               0\n",
      "TaxiIn                 2\n",
      "TaxiOut                0\n",
      "CarrierDelay         196\n",
      "WeatherDelay         196\n",
      "NASDelay             196\n",
      "SecurityDelay        196\n",
      "LateAircraftDelay    196\n",
      "dtype: int64\n"
     ]
    }
   ],
   "source": [
    "import pandas as pd\n",
    "import numpy as np\n",
    "import matplotlib.pyplot as plt\n",
    "\n",
    "df_flights = pd.read_csv(\"DelayedFlights.csv\")\n",
    "df_flights = df_flights.sample(500, random_state = 0)\n",
    "\n",
    "flights_int = df_flights.loc[:,(df_flights.dtypes=='int').values]\n",
    "flights_float = df_flights.loc[:,(df_flights.dtypes=='float').values]\n",
    "df_flights = pd.concat([flights_int, flights_float], axis=1)\n",
    "\n",
    "count_nan_in_df = df_flights.isnull().sum()\n",
    "print(count_nan_in_df)"
   ]
  },
  {
   "cell_type": "code",
   "execution_count": 282,
   "id": "84d6f161",
   "metadata": {},
   "outputs": [
    {
     "name": "stdout",
     "output_type": "stream",
     "text": [
      "Unnamed: 0             0\n",
      "Year                   0\n",
      "Month                  0\n",
      "DayofMonth             0\n",
      "DayOfWeek              0\n",
      "CRSDepTime             0\n",
      "CRSArrTime             0\n",
      "FlightNum              0\n",
      "Distance               0\n",
      "Cancelled              0\n",
      "Diverted               0\n",
      "DepTime                0\n",
      "ArrTime                0\n",
      "ActualElapsedTime      0\n",
      "CRSElapsedTime         0\n",
      "AirTime                0\n",
      "ArrDelay               0\n",
      "DepDelay               0\n",
      "TaxiIn                 0\n",
      "TaxiOut                0\n",
      "CarrierDelay         194\n",
      "WeatherDelay         194\n",
      "NASDelay             194\n",
      "SecurityDelay        194\n",
      "LateAircraftDelay    194\n",
      "dtype: int64\n"
     ]
    }
   ],
   "source": [
    "df_flights = df_flights.dropna(subset=['ArrTime', 'ActualElapsedTime', 'CRSElapsedTime', 'AirTime', 'TaxiIn', 'TaxiOut'])\n",
    "count_nan_in_df = df_flights.isnull().sum()\n",
    "print (count_nan_in_df)"
   ]
  },
  {
   "cell_type": "code",
   "execution_count": 283,
   "id": "6b978e9b",
   "metadata": {},
   "outputs": [
    {
     "name": "stdout",
     "output_type": "stream",
     "text": [
      "Unnamed: 0           0\n",
      "Year                 0\n",
      "Month                0\n",
      "DayofMonth           0\n",
      "DayOfWeek            0\n",
      "CRSDepTime           0\n",
      "CRSArrTime           0\n",
      "FlightNum            0\n",
      "Distance             0\n",
      "Cancelled            0\n",
      "Diverted             0\n",
      "DepTime              0\n",
      "ArrTime              0\n",
      "ActualElapsedTime    0\n",
      "CRSElapsedTime       0\n",
      "AirTime              0\n",
      "ArrDelay             0\n",
      "DepDelay             0\n",
      "TaxiIn               0\n",
      "TaxiOut              0\n",
      "CarrierDelay         0\n",
      "WeatherDelay         0\n",
      "NASDelay             0\n",
      "SecurityDelay        0\n",
      "LateAircraftDelay    0\n",
      "dtype: int64\n"
     ]
    }
   ],
   "source": [
    "df_flights = df_flights.fillna(0)\n",
    "count_nan_in_df = df_flights.isnull().sum()\n",
    "print (count_nan_in_df)"
   ]
  },
  {
   "cell_type": "code",
   "execution_count": 284,
   "id": "61c08802",
   "metadata": {},
   "outputs": [],
   "source": [
    "# Separar dataset en features y labels\n",
    "y = df_flights.ArrDelay\n",
    "X = df_flights.drop('ArrDelay', axis=1)"
   ]
  },
  {
   "cell_type": "markdown",
   "id": "9fa9db21",
   "metadata": {},
   "source": [
    "**Linear Regression**"
   ]
  },
  {
   "cell_type": "code",
   "execution_count": 285,
   "id": "c3467115",
   "metadata": {},
   "outputs": [],
   "source": [
    "from sklearn.linear_model import LinearRegression\n",
    "\n",
    "linearRegression = LinearRegression()"
   ]
  },
  {
   "cell_type": "markdown",
   "id": "85409317",
   "metadata": {},
   "source": [
    "**Decision tree**"
   ]
  },
  {
   "cell_type": "code",
   "execution_count": 286,
   "id": "5582f5e6",
   "metadata": {},
   "outputs": [],
   "source": [
    "from sklearn.tree import DecisionTreeRegressor\n",
    "\n",
    "decisionTree = DecisionTreeRegressor(random_state = 0)"
   ]
  },
  {
   "cell_type": "markdown",
   "id": "7dd9077d",
   "metadata": {},
   "source": [
    "**Random Forests**"
   ]
  },
  {
   "cell_type": "code",
   "execution_count": 287,
   "id": "00e89a0f",
   "metadata": {},
   "outputs": [],
   "source": [
    "from sklearn.ensemble import RandomForestRegressor\n",
    "\n",
    "randomForest = RandomForestRegressor(n_estimators = 1000, random_state = 42)"
   ]
  },
  {
   "cell_type": "markdown",
   "id": "bb784a4d",
   "metadata": {},
   "source": [
    "**Neural Network**"
   ]
  },
  {
   "cell_type": "code",
   "execution_count": 288,
   "id": "0e297f08",
   "metadata": {},
   "outputs": [],
   "source": [
    "from sklearn.neural_network import MLPClassifier\n",
    "\n",
    "neuralNetwork = MLPClassifier(random_state = 0)"
   ]
  },
  {
   "cell_type": "markdown",
   "id": "10a7f0d4",
   "metadata": {},
   "source": [
    "## Exercici 2\n",
    "Compara’ls en base al MSE i al R2"
   ]
  },
  {
   "cell_type": "markdown",
   "id": "5d16929b",
   "metadata": {},
   "source": [
    "**R2**"
   ]
  },
  {
   "cell_type": "code",
   "execution_count": 289,
   "id": "e733154c",
   "metadata": {},
   "outputs": [
    {
     "name": "stdout",
     "output_type": "stream",
     "text": [
      "Linear Regression: 1.0\n",
      "Decision Tree: 0.88\n",
      "Random Forest: 0.95\n",
      "Neural Network: -0.4\n"
     ]
    }
   ],
   "source": [
    "from sklearn.model_selection import train_test_split\n",
    "from sklearn.metrics import r2_score\n",
    "\n",
    "x_train,x_test,y_train,y_test = train_test_split(X,y,test_size = 0.2, random_state=0)\n",
    "\n",
    "linearRegression_model = linearRegression.fit(x_train, y_train)\n",
    "y_true = y_test\n",
    "y_pred = linearRegression_model.predict(x_test)\n",
    "print(\"Linear Regression:\", round(r2_score(y_true, y_pred),2))\n",
    "\n",
    "decisionTree_model = decisionTree.fit(x_train, y_train)\n",
    "y_true = y_test\n",
    "y_pred = decisionTree_model.predict(x_test)\n",
    "print(\"Decision Tree:\", round(r2_score(y_true, y_pred),2))\n",
    "\n",
    "randomForest_model = randomForest.fit(x_train, y_train)\n",
    "y_true = y_test\n",
    "y_pred = randomForest_model.predict(x_test)\n",
    "print(\"Random Forest:\", round(r2_score(y_true, y_pred),2))\n",
    "\n",
    "neuralNetwork_model = neuralNetwork.fit(x_train, y_train)\n",
    "y_true = y_test\n",
    "y_pred = neuralNetwork_model.predict(x_test)\n",
    "print(\"Neural Network:\", round(r2_score(y_true, y_pred),2))"
   ]
  },
  {
   "cell_type": "markdown",
   "id": "f0c5a959",
   "metadata": {},
   "source": [
    "R2 indica el porcentaje de la varianza de la variable dependiente respecto a la media, ArrDelay, que se explica por el modelo lineal. Según R2, Linear Regression es un modelo perfecto capaz de explicar todas las variaciones de ArrDelay. Random Forest y Decision Tree también son modelos con puntuaciones muy altas, capaces de explicar el 93 y el 94 por ciento de la varianza respectivamente. Sin embargo, la puntuación de Neural Network, al ser un valor negativo, indica que es un modelo muy deficiente para predicir la varianza."
   ]
  },
  {
   "cell_type": "markdown",
   "id": "dfe15d55",
   "metadata": {},
   "source": [
    "**MSE**"
   ]
  },
  {
   "cell_type": "code",
   "execution_count": 290,
   "id": "0df12dcb",
   "metadata": {
    "scrolled": true
   },
   "outputs": [
    {
     "name": "stdout",
     "output_type": "stream",
     "text": [
      "Linear Regression: 0.0\n",
      "Decision Tree: 214.14\n",
      "Random Forest: 93.18\n",
      "Neural Network: 2542.01\n"
     ]
    }
   ],
   "source": [
    "from sklearn.metrics import mean_squared_error\n",
    "from sklearn.model_selection import train_test_split\n",
    "\n",
    "x_train,x_test,y_train,y_test = train_test_split(X,y,test_size = 0.2, random_state=0)\n",
    "\n",
    "linearRegression_model = linearRegression.fit(x_train, y_train)\n",
    "y_true = y_test\n",
    "y_pred = linearRegression_model.predict(x_test)\n",
    "print(\"Linear Regression:\", round(mean_squared_error(y_true, y_pred),2))\n",
    "\n",
    "decisionTree_model = decisionTree.fit(x_train, y_train)\n",
    "y_true = y_test\n",
    "y_pred = decisionTree_model.predict(x_test)\n",
    "print(\"Decision Tree:\", round(mean_squared_error(y_true, y_pred),2))\n",
    "\n",
    "randomForest_model = randomForest.fit(x_train, y_train)\n",
    "y_true = y_test\n",
    "y_pred = randomForest.predict(x_test)\n",
    "print(\"Random Forest:\", round(mean_squared_error(y_true, y_pred),2))\n",
    "\n",
    "neuralNetwork_model = neuralNetwork.fit(x_train, y_train)\n",
    "y_true = y_test\n",
    "y_pred = neuralNetwork_model.predict(x_test)\n",
    "print(\"Neural Network:\", round(mean_squared_error(y_true, y_pred),2))"
   ]
  },
  {
   "cell_type": "markdown",
   "id": "3c54ec68",
   "metadata": {},
   "source": [
    "El MSE mide la cantidad de error acumulado en los modelos. Evalúa la diferencia cuadrática promedio entre los valores observados y predichos. Cuando un modelo no tiene error, el MSE es igual a cero. A medida que aumenta el error del modelo, aumenta su valor.\n",
    "Por tanto, según el MSE en este caso Linear Regression es un modelo perfecto. Por otro lado, los otros modelos presentan un error bastante mayor, donde destaca Neural Network, con un valor descomunal."
   ]
  },
  {
   "cell_type": "markdown",
   "id": "afa2aabb",
   "metadata": {},
   "source": [
    "## Exercici 3\n",
    "Entrena’ls utilitzant els diferents paràmetres que admeten"
   ]
  },
  {
   "cell_type": "code",
   "execution_count": 291,
   "id": "b625c628",
   "metadata": {},
   "outputs": [],
   "source": [
    "from sklearn.model_selection import train_test_split\n",
    "\n",
    "x_train,x_test,y_train,y_test = train_test_split(X,y,test_size = 0.2, random_state=0)\n",
    "\n",
    "linearRegression_model = linearRegression.fit(x_train,y_train)\n",
    "\n",
    "decisionTree_model = decisionTree.fit(x_train,y_train)\n",
    "\n",
    "randomForest_model = randomForest.fit(x_train,y_train)\n",
    "\n",
    "neuralNetwork_model = neuralNetwork.fit(x_train,y_train)"
   ]
  },
  {
   "cell_type": "markdown",
   "id": "3a0e60ac",
   "metadata": {},
   "source": [
    "## Exercici 4\n",
    "Compara el seu rendiment utilitzant l’aproximació traint/test o utilitzant totes les dades (validació interna)"
   ]
  },
  {
   "cell_type": "code",
   "execution_count": 292,
   "id": "d98f1e41",
   "metadata": {},
   "outputs": [
    {
     "name": "stdout",
     "output_type": "stream",
     "text": [
      "Linear Regression\n",
      "Train/Test: 1.0\n",
      "Validacio interna: [1. 1. 1. 1. 1. 1. 1. 1. 1. 1.]\n",
      "Mean of 1.00 accuracy with a Standard Deviation of 0.00\n",
      "\n",
      "\n",
      "Decision Tree\n",
      "Train/Test: 0.881929462475249\n",
      "Validacio interna: [0.94613203 0.88810219 0.92466092 0.89865009 0.91644861 0.78328622\n",
      " 0.8036546  0.89789256 0.88066712 0.9041894 ]\n",
      "Mean of 0.88 accuracy with a Standard Deviation of 0.05\n",
      "\n",
      "\n",
      "Random Forest\n",
      "Train/Test: 0.9486235678309559\n",
      "Validacio interna: [0.9670354  0.94585308 0.96846175 0.9212326  0.97356538 0.90913145\n",
      " 0.90792753 0.93379732 0.95923076 0.97426875]\n",
      "Mean of 0.95 accuracy with a Standard Deviation of 0.03\n",
      "\n",
      "\n",
      "Neural Network\n",
      "Train/Test: 0.01\n",
      "Validacio interna: [0.00401606 0.        ]\n",
      "Mean of 0.00 accuracy with a Standard Deviation of 0.00\n"
     ]
    },
    {
     "name": "stderr",
     "output_type": "stream",
     "text": [
      "/Users/claradv/opt/anaconda3/lib/python3.9/site-packages/sklearn/model_selection/_split.py:676: UserWarning: The least populated class in y has only 1 members, which is less than n_splits=2.\n",
      "  warnings.warn(\n"
     ]
    }
   ],
   "source": [
    "from sklearn.model_selection import cross_val_score\n",
    "import numpy as np\n",
    "\n",
    "print(\"Linear Regression\")\n",
    "score = linearRegression_model.score(x_test, y_test)\n",
    "print(\"Train/Test:\", score)\n",
    "score = cross_val_score(linearRegression_model, X, y, cv=10)\n",
    "print(\"Validacio interna:\", score)\n",
    "print(\"Mean of %0.2f accuracy with a Standard Deviation of %0.2f\" % (score.mean(), score.std()))\n",
    "\n",
    "print(\"\\n\\nDecision Tree\")\n",
    "score = decisionTree_model.score(x_test, y_test)\n",
    "print(\"Train/Test:\", score)\n",
    "score = cross_val_score(decisionTree_model, X, y, cv=10)\n",
    "print(\"Validacio interna:\", score)\n",
    "print(\"Mean of %0.2f accuracy with a Standard Deviation of %0.2f\" % (score.mean(), score.std()))\n",
    "\n",
    "print(\"\\n\\nRandom Forest\")\n",
    "score = randomForest_model.score(x_test, y_test)\n",
    "print(\"Train/Test:\", score)\n",
    "score = cross_val_score(randomForest_model, X, y, cv=10)\n",
    "print(\"Validacio interna:\", score)\n",
    "print(\"Mean of %0.2f accuracy with a Standard Deviation of %0.2f\" % (score.mean(), score.std()))\n",
    "\n",
    "print(\"\\n\\nNeural Network\")\n",
    "score = neuralNetwork_model.score(x_test, y_test)\n",
    "print(\"Train/Test:\", score)\n",
    "score = cross_val_score(neuralNetwork_model, X, y, cv=2)\n",
    "print(\"Validacio interna:\", score)\n",
    "print(\"Mean of %0.2f accuracy with a Standard Deviation of %0.2f\" % (score.mean(), score.std()))"
   ]
  },
  {
   "cell_type": "markdown",
   "id": "c5354b91",
   "metadata": {},
   "source": [
    "He realizado la evaluación del rendimiento a través del cross validation (10-fold). \n",
    "\n",
    "He comparado el resultado de esta evaluación para la aproximación train/test y validación interna (en este caso, para comprender los datos, he calculado la media de las 10 puntuaciones).\n",
    "\n",
    "Para Linear Regression y Decision Tree los resultados de rendimiento son iguales según los dos enfoques, y para Random Forest y Neural Network varía en 0.01 entre enfoques."
   ]
  },
  {
   "cell_type": "markdown",
   "id": "6e8c6563",
   "metadata": {},
   "source": [
    "## Exercici 5\n",
    "Realitza algun procés d’enginyeria de variables per millorar-ne la predicció"
   ]
  },
  {
   "cell_type": "code",
   "execution_count": 293,
   "id": "d0175500",
   "metadata": {},
   "outputs": [
    {
     "name": "stdout",
     "output_type": "stream",
     "text": [
      "Train/Test: 1.0\n",
      "Validacio interna: 1.0\n",
      "[ 8.00000000e+00  1.08000000e+02  1.30000000e+01  7.50000000e+01\n",
      "  4.40000000e+01  1.20000000e+01  3.70000000e+01  6.00000000e+00\n",
      "  2.50000000e+01  1.00000000e+00  2.20000000e+01  2.20000000e+01\n",
      "  7.00000000e+00  4.90000000e+01  8.30000000e+01  6.50000000e+01\n",
      "  4.00000000e+01  2.30000000e+01 -6.00000000e+00  4.80000000e+01\n",
      " -6.00000000e+00  5.00000000e+00  1.70000000e+01  9.00000000e+01\n",
      "  8.80000000e+01  4.40000000e+01  5.90000000e+01  1.20000000e+01\n",
      "  4.00000000e+00  5.00000000e+00  1.60000000e+02  1.10000000e+01\n",
      "  4.20000000e+01  2.37000000e+02  3.80000000e+01  5.00000000e+00\n",
      "  1.21000000e+02  6.00000000e+01  6.80000000e+01  4.00000000e+00\n",
      "  4.50000000e+01  2.40000000e+01  1.54000000e+02  9.00000000e+00\n",
      "  7.00000000e+00 -3.00000000e+00  2.40000000e+01  9.00000000e+00\n",
      "  1.00000000e+01 -1.00000000e+00  9.00000000e+00 -1.00000000e+00\n",
      "  5.40000000e+01  4.00000000e+00  4.40000000e+01  6.00000000e+00\n",
      "  1.60000000e+01  1.60000000e+01  1.60000000e+01  9.00000000e+00\n",
      "  5.30000000e+01  3.50000000e+01  8.60000000e+01  1.50000000e+01\n",
      "  3.00000000e+01  3.60000000e+01  7.80000000e+01  1.10000000e+01\n",
      "  1.50000000e+01  2.40000000e+01 -2.00000000e+00  2.50000000e+01\n",
      "  2.00000000e+01  2.60000000e+01  6.10000000e+01  4.80000000e+01\n",
      "  1.20000000e+01  6.90000000e+01  3.80000000e+01 -1.10000000e+01\n",
      "  3.20000000e+01  7.90000000e+01  1.13000000e+02  1.00000000e+01\n",
      " -1.00000000e+01  4.00000000e+01  1.40000000e+01  2.50000000e+01\n",
      "  7.00000000e+00 -7.00000000e+00  1.38000000e+02  7.00000000e+00\n",
      "  1.80000000e+01  6.00000000e+00  7.00000000e+00  3.00000000e+00\n",
      " -1.20792265e-13  1.59000000e+02  1.30000000e+01  5.20000000e+01]\n"
     ]
    }
   ],
   "source": [
    "from sklearn.preprocessing import RobustScaler\n",
    "from sklearn.pipeline import make_pipeline\n",
    "from sklearn.model_selection import train_test_split\n",
    "\n",
    "X_train,X_test,y_train,y_test = train_test_split(X,y,test_size = 0.2, random_state=0)\n",
    "\n",
    "pipe = make_pipeline(RobustScaler(), LinearRegression())\n",
    "pipe.fit(X_train, y_train)\n",
    "print(\"Train/Test:\", pipe.score(X_test, y_test))\n",
    "print(\"Validacio interna:\", np.mean(cross_val_score(linearRegression_model, X, y, cv=10)))\n",
    "print(pipe.predict(X_test))"
   ]
  },
  {
   "cell_type": "code",
   "execution_count": 294,
   "id": "a0c8fec4",
   "metadata": {},
   "outputs": [
    {
     "name": "stdout",
     "output_type": "stream",
     "text": [
      "Train/Test: 0.8818412431514236\n",
      "Validacio interna: 0.8843683735042388\n",
      "[ 26. 110.  12.  48.  46.   3.  28. -17.  27. -16.  24.  26.  11.  42.\n",
      "  47.  56.  35.  23.   4.  57.   2.  12.  28.  95.  69.  79.  66.  12.\n",
      "  14.   2. 163.   0.  40. 245.  35.  11. 129.  67.  81.  -1.  32.  30.\n",
      " 129.   5.   7.   0.   2.  -3. -21.   1.   2.  11.  57.   8. 105.   4.\n",
      "  21.  17.  21.  26.  56.  56.  78.  20.  32.  63.  78.  26.  21.  26.\n",
      "   8.  22.   2.  35.  25.  44.   3.  72.  37.   0.  44.  68.  96.  14.\n",
      "   8.  63.  26.  41.   8. -21.  96.   6.  17.   9.   0.  12.   9. 188.\n",
      "  12.  49.]\n"
     ]
    }
   ],
   "source": [
    "pipe = make_pipeline(RobustScaler(), DecisionTreeRegressor(random_state=0))\n",
    "pipe.fit(X_train, y_train)\n",
    "print(\"Train/Test:\", pipe.score(X_test, y_test))\n",
    "print(\"Validacio interna:\", np.mean(cross_val_score(decisionTree_model, X, y, cv=10)))\n",
    "print(pipe.predict(X_test))"
   ]
  },
  {
   "cell_type": "code",
   "execution_count": 295,
   "id": "e8a17245",
   "metadata": {},
   "outputs": [
    {
     "name": "stdout",
     "output_type": "stream",
     "text": [
      "Train/Test: 0.948958779702895\n",
      "Validacio interna: 0.9460504028608463\n",
      "[ 2.20410e+01  1.09170e+02  2.47800e+00  7.57390e+01  4.48100e+01\n",
      "  9.25300e+00  3.15350e+01 -4.97100e+00  3.01500e+01  1.78700e+00\n",
      "  2.95180e+01  2.20430e+01  5.37500e+00  3.81870e+01  7.60450e+01\n",
      "  6.39880e+01  3.84260e+01  2.25120e+01  5.49000e+00  4.58180e+01\n",
      " -1.48400e+00  8.45500e+00  2.43100e+01  1.06070e+02  7.77000e+01\n",
      "  6.82670e+01  6.46380e+01  2.70300e+00  9.21100e+00  2.35000e-01\n",
      "  1.70083e+02  7.75600e+00  4.03270e+01  2.57385e+02  4.69470e+01\n",
      "  5.05100e+00  1.64172e+02  5.96420e+01  7.52590e+01  6.03400e+00\n",
      "  3.40090e+01  2.60790e+01  1.65265e+02  7.55900e+00  5.42300e+00\n",
      " -4.40000e-02  2.29020e+01  4.02000e+00 -6.69700e+00  5.09000e-01\n",
      "  5.55600e+00  1.06100e+01  5.13650e+01  9.52000e-01  5.99110e+01\n",
      " -2.21000e-01  2.11830e+01  2.10680e+01  1.98060e+01  1.94700e+01\n",
      "  5.54500e+01  4.11490e+01  7.52410e+01  1.89380e+01  3.15180e+01\n",
      "  6.44580e+01  5.92540e+01  2.08600e+01  1.83160e+01  2.32510e+01\n",
      "  4.26400e+00  2.32510e+01  2.08290e+01  3.44720e+01  4.90500e+01\n",
      "  4.27060e+01  3.83700e+00  7.39730e+01  3.59940e+01  2.59200e+00\n",
      "  3.03840e+01  7.48150e+01  1.08725e+02  6.94200e+00 -2.70600e+00\n",
      "  4.98290e+01  1.92490e+01  3.62180e+01  5.88000e-01 -1.17590e+01\n",
      "  1.12500e+02  1.69800e+00  2.20540e+01  6.90500e+00  3.58800e+00\n",
      "  7.52900e+00  7.62700e+00  1.63450e+02 -3.56000e-01  4.54740e+01]\n"
     ]
    }
   ],
   "source": [
    "pipe = make_pipeline(RobustScaler(), RandomForestRegressor(n_estimators = 1000, random_state = 42))\n",
    "pipe.fit(X_train, y_train)\n",
    "print(\"Train/Test:\", pipe.score(X_test, y_test))\n",
    "print(\"Validacio interna:\", np.mean(cross_val_score(randomForest_model, X, y, cv=10)))\n",
    "print(pipe.predict(X_test))"
   ]
  },
  {
   "cell_type": "code",
   "execution_count": 296,
   "id": "9e5ef1f8",
   "metadata": {},
   "outputs": [
    {
     "name": "stderr",
     "output_type": "stream",
     "text": [
      "/Users/claradv/opt/anaconda3/lib/python3.9/site-packages/sklearn/neural_network/_multilayer_perceptron.py:692: ConvergenceWarning: Stochastic Optimizer: Maximum iterations (200) reached and the optimization hasn't converged yet.\n",
      "  warnings.warn(\n",
      "/Users/claradv/opt/anaconda3/lib/python3.9/site-packages/sklearn/model_selection/_split.py:676: UserWarning: The least populated class in y has only 1 members, which is less than n_splits=10.\n",
      "  warnings.warn(\n"
     ]
    },
    {
     "name": "stdout",
     "output_type": "stream",
     "text": [
      "Train/Test: 0.03\n",
      "Validacio interna: 0.012081632653061223\n",
      "[ 11. 129.   6.  78.  31.   3.  38.   2.  37.  12.  38.  37.   1.  29.\n",
      "  54.  44.  40.  41.  14.  38.   1.   1.  22. 143. 114.  35. 112.   3.\n",
      "  14.  12.  63.  12.  18.  66.  40.   8.  47.  63.  80.   3.  32.  17.\n",
      "  98.  -2.  -1.  17.  20.   1.   8.  -7.   6.   9.  41.   3.  38.   4.\n",
      "  21.  22.  24.   6.  37.   5.  67.   8.  39. 127.  78. -16.  16.  17.\n",
      "   1.  31.   4.  35.  32.  28.  11.  54.  62.  13.  39.  50.  56.   5.\n",
      "   6.  41.   5.  33.  11. -17. 261.   1.  35.   3.   3.   3.   6. 125.\n",
      "  -2.  63.]\n"
     ]
    }
   ],
   "source": [
    "pipe = make_pipeline(RobustScaler(), MLPClassifier(random_state = 0))\n",
    "pipe.fit(X_train, y_train)\n",
    "print(\"Train/Test:\", pipe.score(X_test, y_test))\n",
    "print(\"Validacio interna:\", np.mean(cross_val_score(neuralNetwork_model, X, y, cv=10)))\n",
    "print(pipe.predict(X_test))"
   ]
  },
  {
   "cell_type": "markdown",
   "id": "29b3ca25",
   "metadata": {},
   "source": [
    "Gracias al proceso de escalado de varibles teniendo en cuenta los outliers, el rendimiento se ha mantenido prácticamente igual para todos los modelos, a excepción de Neural Network, donde se aprecia una muy pequeña mejoría."
   ]
  },
  {
   "cell_type": "markdown",
   "id": "24035a21",
   "metadata": {},
   "source": [
    "## Exercici 6\n",
    "No utilitzis la variable DepDelay a l’hora de fer prediccions"
   ]
  },
  {
   "cell_type": "code",
   "execution_count": 297,
   "id": "444d94fc",
   "metadata": {},
   "outputs": [
    {
     "data": {
      "text/plain": [
       "Index(['Unnamed: 0', 'Year', 'Month', 'DayofMonth', 'DayOfWeek', 'CRSDepTime',\n",
       "       'CRSArrTime', 'FlightNum', 'Distance', 'Cancelled', 'Diverted',\n",
       "       'DepTime', 'ArrTime', 'ActualElapsedTime', 'CRSElapsedTime', 'AirTime',\n",
       "       'TaxiIn', 'TaxiOut', 'CarrierDelay', 'WeatherDelay', 'NASDelay',\n",
       "       'SecurityDelay', 'LateAircraftDelay'],\n",
       "      dtype='object')"
      ]
     },
     "metadata": {},
     "output_type": "display_data"
    }
   ],
   "source": [
    "X.drop(columns=['DepDelay'],inplace=True)\n",
    "display(X.columns)"
   ]
  },
  {
   "cell_type": "code",
   "execution_count": 298,
   "id": "ed02aab6",
   "metadata": {},
   "outputs": [
    {
     "name": "stdout",
     "output_type": "stream",
     "text": [
      "Linear Regression\n",
      "[ 60.13652417   2.16012622  56.0963041    3.77581998 107.11295977\n",
      "  34.18989729   3.68403655   2.90779757  25.01371776   1.78378608\n",
      "  96.05528803  62.51617994  33.11758508  31.77670857   1.61079304\n",
      "  17.91553399   2.41571145   4.73477275   2.12955358  52.57674723\n",
      "  46.16579832  21.51341919   2.48288513  40.56666205  50.17027791\n",
      "  55.97511472  31.93198305  33.09167481   2.00792961   2.41807141\n",
      "   0.93627874   1.98812387 100.88698852  20.56573985  24.76966922\n",
      "  23.76542486 114.98314081  79.51167583  95.98541336   0.50195743\n",
      "   2.64079984  23.29273111  52.39155007  38.53978745   2.27358205\n",
      "   2.22488877 223.43602374   2.76774918   1.89054456  24.29768855\n",
      "  27.61076177  63.99099531  24.29513426   3.82008257   1.47624304\n",
      " 148.68773396   1.94841807  59.6672972    2.41834714  66.47494892\n",
      "  75.54567285 132.33236167   2.55754309   2.18550531   4.94985137\n",
      "   0.83618685  28.94408598 129.29566776  25.23950822   3.4604159\n",
      "   3.26943121   3.67530996  81.09637141  34.86720603   3.78514544\n",
      "   2.23992287  48.81901478  20.99018372 112.30141076   1.4286721\n",
      "  24.66136956  18.97970424   2.69099553   3.57175344  41.72930627\n",
      " 114.58043528  22.66185869   1.19042364   2.08080372   2.25565532\n",
      "  39.38992802   1.77704185  33.43756868  36.89513912  -0.74587665\n",
      "  63.68816951  78.21259672 162.54343892   3.85538849  63.45868906]\n"
     ]
    }
   ],
   "source": [
    "X_train,X_test,y_train,y_test = train_test_split(X,y,test_size = 0.2)\n",
    "\n",
    "pipe = make_pipeline(RobustScaler(), LinearRegression())\n",
    "pipe.fit(X_train, y_train)\n",
    "predictions = pipe.predict(X_test)\n",
    "print(\"Linear Regression\", predictions, sep = \"\\n\")"
   ]
  },
  {
   "cell_type": "code",
   "execution_count": 299,
   "id": "7dbf0794",
   "metadata": {},
   "outputs": [
    {
     "name": "stdout",
     "output_type": "stream",
     "text": [
      "Random Forest\n",
      "[ 58.911   0.382  56.595   5.252  75.07   28.106   7.417   5.926  22.776\n",
      "   7.304  78.522  70.406  36.36   33.694   2.907  23.053   5.122   5.736\n",
      "   5.527  55.408  55.803  21.014   1.94   47.094  45.562  43.689  35.143\n",
      "  36.807   8.005   6.107  -0.784   5.81   68.765  17.507  24.785  22.895\n",
      "  80.797  70.438  99.866   4.904   3.471  22.179  40.     32.428   3.916\n",
      "   5.057 182.04    5.851   0.703  22.469  25.058  54.321  18.594   6.803\n",
      "   5.931 100.697   6.07   60.374   2.382  62.045  51.335 112.663   5.756\n",
      "   4.97    5.67    1.333  32.05  149.333  25.707   5.754   7.444   1.515\n",
      "  88.359  29.694   4.497   1.639  56.756  27.535 122.805  -3.715  24.323\n",
      "  17.796   6.722   4.216  30.469 143.829  27.086   8.626  -4.091   6.182\n",
      "  34.502   5.971  34.268  42.994   0.888  64.696  89.958 177.02    7.766\n",
      "  64.844]\n"
     ]
    }
   ],
   "source": [
    "pipe = make_pipeline(RobustScaler(), RandomForestRegressor(n_estimators = 1000, random_state = 42))\n",
    "pipe.fit(X_train, y_train)\n",
    "predictions = pipe.predict(X_test)\n",
    "print(\"Random Forest\", predictions, sep = \"\\n\")"
   ]
  },
  {
   "cell_type": "code",
   "execution_count": 300,
   "id": "a74df314",
   "metadata": {},
   "outputs": [
    {
     "name": "stdout",
     "output_type": "stream",
     "text": [
      "Decision Tree\n",
      "[ 54.  -7.  52.   3.  63.  25.  -8.  -2.  24.  13.  85.  92.  32.  32.\n",
      "  -2.  41.   3.   9.   0.  54.  56.  21.  12.  49.  38.  45.  33.  31.\n",
      "  12.  12.  -6.  10.  83.  16.  22.  22.  68.  67.  63.  11.  14.  22.\n",
      "  45.  32.  -1.  12. 108.   9.   0.  23.  23.  44.  16.  12.  -1. 162.\n",
      "  -5.  59.   9.  56.  44. 143.  -2.  -2.   8.   2.  27. 138.  24.   9.\n",
      "   9.   3.  88.  26.   7.  11.  53.  17. 112. -19.  26.  16.  14.  12.\n",
      "  26. 129.  22.  14. -16.  -2.  35.  14.  33.  42.  -1.  81.  79. 144.\n",
      "   8.  61.]\n"
     ]
    }
   ],
   "source": [
    "pipe = make_pipeline(RobustScaler(), DecisionTreeRegressor(random_state=0))\n",
    "pipe.fit(X_train, y_train)\n",
    "predictions = pipe.predict(X_test)\n",
    "print(\"Decision Tree\", predictions, sep = \"\\n\")"
   ]
  },
  {
   "cell_type": "code",
   "execution_count": 301,
   "id": "ec9f5747",
   "metadata": {},
   "outputs": [
    {
     "name": "stdout",
     "output_type": "stream",
     "text": [
      "Neural Network\n",
      "[ 28.  -7.  83.  14.  62.  35.  10.  10.  48.  13.  30.  38.  44.  20.\n",
      "  -6.  25.   7.   9.  12.  52.  35.   1.  12.  41.  38.  38.  26.  21.\n",
      "   7.  -1.   1.  11.  19.  16.  41.  28.  57.  37.  45.   6.  13.  41.\n",
      "  45.  37.   1.  -3. 166.   1.  -1.  25.  37. 114.  18.  12.  11.  85.\n",
      " -11.  86.   3.  44.  63.  39.  11.   9.  17.   1.  37.  92.  24.  12.\n",
      "  21.   3.  35.  22.   3.  13.  33.   5.  35.   7.  26.   0.   3.   9.\n",
      "  22.  35.  31.   0.   9.   4.  38.   3.  33.  48.  -6.  52.  37. 110.\n",
      " -16.  46.]\n"
     ]
    },
    {
     "name": "stderr",
     "output_type": "stream",
     "text": [
      "/Users/claradv/opt/anaconda3/lib/python3.9/site-packages/sklearn/neural_network/_multilayer_perceptron.py:692: ConvergenceWarning: Stochastic Optimizer: Maximum iterations (200) reached and the optimization hasn't converged yet.\n",
      "  warnings.warn(\n"
     ]
    }
   ],
   "source": [
    "pipe = make_pipeline(RobustScaler(), MLPClassifier(random_state = 0))\n",
    "pipe.fit(X_train, y_train)\n",
    "predictions = pipe.predict(X_test)\n",
    "print(\"Neural Network\", predictions, sep = \"\\n\")"
   ]
  }
 ],
 "metadata": {
  "kernelspec": {
   "display_name": "Python 3 (ipykernel)",
   "language": "python",
   "name": "python3"
  },
  "language_info": {
   "codemirror_mode": {
    "name": "ipython",
    "version": 3
   },
   "file_extension": ".py",
   "mimetype": "text/x-python",
   "name": "python",
   "nbconvert_exporter": "python",
   "pygments_lexer": "ipython3",
   "version": "3.9.7"
  }
 },
 "nbformat": 4,
 "nbformat_minor": 5
}
